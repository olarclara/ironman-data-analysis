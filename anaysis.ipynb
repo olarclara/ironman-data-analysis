{
 "nbformat": 4,
 "nbformat_minor": 2,
 "metadata": {
  "language_info": {
   "name": "python",
   "codemirror_mode": {
    "name": "ipython",
    "version": 3
   },
   "version": "3.7.1-final"
  },
  "orig_nbformat": 2,
  "file_extension": ".py",
  "mimetype": "text/x-python",
  "name": "python",
  "npconvert_exporter": "python",
  "pygments_lexer": "ipython3",
  "version": 3,
  "kernelspec": {
   "name": "python37164bit85b1a263971042819c2387ecb8f96bd7",
   "display_name": "Python 3.7.1 64-bit"
  }
 },
 "cells": [
  {
   "cell_type": "code",
   "execution_count": 4,
   "metadata": {},
   "outputs": [],
   "source": [
    "# Analysis of Ironman WC 2019 Results\n",
    "\n",
    "import pandas as pd"
   ]
  },
  {
   "cell_type": "code",
   "execution_count": 5,
   "metadata": {},
   "outputs": [
    {
     "data": {
      "text/plain": "AgeGroup                            object\nBikeTimeConverted           datetime64[ns]\nFullName                            object\nGender                              object\nCountry                             object\nEventStatus                         object\nFinishRankGender                     int64\nFinishRankGroup                      int64\nFinishRankOverall                    int64\nFinishTimeConverted         datetime64[ns]\nRunTimeConverted            datetime64[ns]\nSwimTimeConverted           datetime64[ns]\nTransition1TimeConverted    datetime64[ns]\nTransition2TimeConverted    datetime64[ns]\ndtype: object"
     },
     "execution_count": 5,
     "metadata": {},
     "output_type": "execute_result"
    }
   ],
   "source": [
    "df = pd.read_csv('results.csv', parse_dates=['BikeTimeConverted', 'FinishTimeConverted', 'RunTimeConverted', 'SwimTimeConverted', 'Transition1TimeConverted', 'Transition2TimeConverted'], index_col=0)\n",
    "df.dtypes"
   ]
  },
  {
   "cell_type": "code",
   "execution_count": 15,
   "metadata": {},
   "outputs": [
    {
     "name": "stdout",
     "output_type": "stream",
     "text": "Total number of participants: 2446\n"
    }
   ],
   "source": [
    "print(\"Total number of participants: {0}\".format(len(df)))"
   ]
  },
  {
   "cell_type": "code",
   "execution_count": 18,
   "metadata": {},
   "outputs": [
    {
     "name": "stdout",
     "output_type": "stream",
     "text": "Total number of male participants: 1779\n"
    }
   ],
   "source": [
    "df_m = df[df['Gender'] == 'M']\n",
    "print(\"Total number of male participants: {0}\".format(len(df_m)))"
   ]
  },
  {
   "cell_type": "code",
   "execution_count": 19,
   "metadata": {},
   "outputs": [
    {
     "name": "stdout",
     "output_type": "stream",
     "text": "Total number of female participants: 667\n"
    }
   ],
   "source": [
    "df_f = df[df['Gender'] == 'F']\n",
    "print(\"Total number of female participants: {0}\".format(len(df_f)))"
   ]
  }
 ]
}